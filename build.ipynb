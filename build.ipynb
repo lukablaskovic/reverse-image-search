{
 "cells": [
  {
   "cell_type": "code",
   "execution_count": 21,
   "id": "137fb2a8",
   "metadata": {},
   "outputs": [],
   "source": [
    "import towhee\n",
    "from loader import collection\n",
    "from towhee.types.image_utils import from_pil\n",
    "\n",
    "id_img = df.set_index('id')['path'].to_dict()\n",
    "\n",
    "with towhee.api() as api:\n",
    "    milvus_search_function = (\n",
    "        api.runas_op(func=lambda img: from_pil(img))\n",
    "            .image_embedding.timm(model_name='resnet50')\n",
    "            .milvus_search(collection=collection, limit=5)\n",
    "            .runas_op(func=lambda res: [id_img[x.id] for x in res])\n",
    "            .as_function()\n",
    "    )"
   ]
  },
  {
   "cell_type": "code",
   "execution_count": 22,
   "id": "091b63e7",
   "metadata": {},
   "outputs": [
    {
     "name": "stdout",
     "output_type": "stream",
     "text": [
      "Running on local URL:  http://127.0.0.1:7866/\n",
      "Running on public URL: https://39314.gradio.app\n",
      "\n",
      "This share link expires in 72 hours. For free permanent hosting, check out Spaces: https://huggingface.co/spaces\n"
     ]
    },
    {
     "data": {
      "text/html": [
       "<div><iframe src=\"https://39314.gradio.app\" width=\"900\" height=\"500\" allow=\"autoplay; camera; microphone;\" frameborder=\"0\" allowfullscreen></iframe></div>"
      ],
      "text/plain": [
       "<IPython.core.display.HTML object>"
      ]
     },
     "metadata": {},
     "output_type": "display_data"
    },
    {
     "data": {
      "text/plain": [
       "(<gradio.routes.App at 0x2c1dd1ed640>,\n",
       " 'http://127.0.0.1:7866/',\n",
       " 'https://39314.gradio.app')"
      ]
     },
     "execution_count": 22,
     "metadata": {},
     "output_type": "execute_result"
    },
    {
     "name": "stderr",
     "output_type": "stream",
     "text": [
      "Traceback (most recent call last):\n",
      "  File \"c:\\users\\alesandro\\appdata\\local\\programs\\python\\python38\\lib\\site-packages\\gradio\\routes.py\", line 255, in run_predict\n",
      "    output = await app.blocks.process_api(\n",
      "  File \"c:\\users\\alesandro\\appdata\\local\\programs\\python\\python38\\lib\\site-packages\\gradio\\blocks.py\", line 588, in process_api\n",
      "    output = self.postprocess_data(fn_index, predictions, state)\n",
      "  File \"c:\\users\\alesandro\\appdata\\local\\programs\\python\\python38\\lib\\site-packages\\gradio\\blocks.py\", line 537, in postprocess_data\n",
      "    prediction_value = predictions[i]\n",
      "TypeError: '_Reason' object is not subscriptable\n"
     ]
    }
   ],
   "source": [
    "import gradio\n",
    "\n",
    "interface = gradio.Interface(milvus_search_function, \n",
    "                             gradio.inputs.Image(type=\"pil\", source='upload'),\n",
    "                             [gradio.outputs.Image(type=\"file\", label=None) for _ in range(5)]\n",
    "                            )\n",
    "\n",
    "interface.launch(inline=True, share=True)\n"
   ]
  },
  {
   "cell_type": "code",
   "execution_count": null,
   "id": "919435d3",
   "metadata": {},
   "outputs": [],
   "source": []
  }
 ],
 "metadata": {
  "kernelspec": {
   "display_name": "Python 3 (ipykernel)",
   "language": "python",
   "name": "python3"
  },
  "language_info": {
   "codemirror_mode": {
    "name": "ipython",
    "version": 3
   },
   "file_extension": ".py",
   "mimetype": "text/x-python",
   "name": "python",
   "nbconvert_exporter": "python",
   "pygments_lexer": "ipython3",
   "version": "3.8.10"
  }
 },
 "nbformat": 4,
 "nbformat_minor": 5
}
