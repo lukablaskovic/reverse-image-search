{
 "cells": [
  {
   "cell_type": "markdown",
   "id": "0c04320e",
   "metadata": {},
   "source": [
    "# Showcase using Gradio - Reverse image search\n",
    "## Powered by milvus.io and towhee.io"
   ]
  },
  {
   "cell_type": "code",
   "execution_count": 8,
   "id": "137fb2a8",
   "metadata": {},
   "outputs": [
    {
     "ename": "NameError",
     "evalue": "name 'pd' is not defined",
     "output_type": "error",
     "traceback": [
      "\u001b[1;31m-----------------------------------------\u001b[0m",
      "\u001b[1;31mNameError\u001b[0mTraceback (most recent call last)",
      "Input \u001b[1;32mIn [8]\u001b[0m, in \u001b[0;36m<cell line: 7>\u001b[1;34m()\u001b[0m\n\u001b[0;32m      5\u001b[0m source \u001b[38;5;241m=\u001b[39m \u001b[38;5;124m'\u001b[39m\u001b[38;5;124mD:/data/reverse_image_search.csv\u001b[39m\u001b[38;5;124m'\u001b[39m\n\u001b[0;32m      6\u001b[0m \u001b[38;5;66;03m#Read data\u001b[39;00m\n\u001b[1;32m----> 7\u001b[0m df \u001b[38;5;241m=\u001b[39m \u001b[43mpd\u001b[49m\u001b[38;5;241m.\u001b[39mread_csv(source)\n\u001b[0;32m      8\u001b[0m id_img \u001b[38;5;241m=\u001b[39m df\u001b[38;5;241m.\u001b[39mset_index(\u001b[38;5;124m'\u001b[39m\u001b[38;5;124mid\u001b[39m\u001b[38;5;124m'\u001b[39m)[\u001b[38;5;124m'\u001b[39m\u001b[38;5;124mpath\u001b[39m\u001b[38;5;124m'\u001b[39m]\u001b[38;5;241m.\u001b[39mto_dict()\n\u001b[0;32m     10\u001b[0m \u001b[38;5;28;01mwith\u001b[39;00m towhee\u001b[38;5;241m.\u001b[39mapi() \u001b[38;5;28;01mas\u001b[39;00m api:\n",
      "\u001b[1;31mNameError\u001b[0m: name 'pd' is not defined"
     ]
    }
   ],
   "source": [
    "import towhee\n",
    "from loader import collection\n",
    "from towhee.types.image_utils import from_pil\n",
    "\n",
    "source = 'D:/data/reverse_image_search.csv'\n",
    "#Read data\n",
    "df = pd.read_csv(source)\n",
    "id_img = df.set_index('id')['path'].to_dict()\n",
    "\n",
    "with towhee.api() as api:\n",
    "    milvus_search_function = (\n",
    "        api.runas_op(func=lambda img: from_pil(img))\n",
    "            .image_embedding.timm(model_name='resnet50')\n",
    "            .milvus_search(collection=collection, limit=5)\n",
    "            .runas_op(func=lambda res: [id_img[x.id] for x in res])\n",
    "            .as_function()\n",
    "    )"
   ]
  },
  {
   "cell_type": "code",
   "execution_count": 3,
   "id": "091b63e7",
   "metadata": {},
   "outputs": [
    {
     "ename": "NameError",
     "evalue": "name 'milvus_search_function' is not defined",
     "output_type": "error",
     "traceback": [
      "\u001b[1;31m-----------------------------------------\u001b[0m",
      "\u001b[1;31mNameError\u001b[0mTraceback (most recent call last)",
      "Input \u001b[1;32mIn [3]\u001b[0m, in \u001b[0;36m<cell line: 3>\u001b[1;34m()\u001b[0m\n\u001b[0;32m      1\u001b[0m \u001b[38;5;28;01mimport\u001b[39;00m \u001b[38;5;21;01mgradio\u001b[39;00m\n\u001b[1;32m----> 3\u001b[0m interface \u001b[38;5;241m=\u001b[39m gradio\u001b[38;5;241m.\u001b[39mInterface(\u001b[43mmilvus_search_function\u001b[49m, \n\u001b[0;32m      4\u001b[0m                              gradio\u001b[38;5;241m.\u001b[39minputs\u001b[38;5;241m.\u001b[39mImage(\u001b[38;5;28mtype\u001b[39m\u001b[38;5;241m=\u001b[39m\u001b[38;5;124m\"\u001b[39m\u001b[38;5;124mpil\u001b[39m\u001b[38;5;124m\"\u001b[39m, source\u001b[38;5;241m=\u001b[39m\u001b[38;5;124m'\u001b[39m\u001b[38;5;124mupload\u001b[39m\u001b[38;5;124m'\u001b[39m),\n\u001b[0;32m      5\u001b[0m                              [gradio\u001b[38;5;241m.\u001b[39moutputs\u001b[38;5;241m.\u001b[39mImage(\u001b[38;5;28mtype\u001b[39m\u001b[38;5;241m=\u001b[39m\u001b[38;5;124m\"\u001b[39m\u001b[38;5;124mfile\u001b[39m\u001b[38;5;124m\"\u001b[39m, label\u001b[38;5;241m=\u001b[39m\u001b[38;5;28;01mNone\u001b[39;00m) \u001b[38;5;28;01mfor\u001b[39;00m _ \u001b[38;5;129;01min\u001b[39;00m \u001b[38;5;28mrange\u001b[39m(\u001b[38;5;241m5\u001b[39m)]\n\u001b[0;32m      6\u001b[0m                             )\n\u001b[0;32m      8\u001b[0m interface\u001b[38;5;241m.\u001b[39mlaunch(inline\u001b[38;5;241m=\u001b[39m\u001b[38;5;28;01mTrue\u001b[39;00m, share\u001b[38;5;241m=\u001b[39m\u001b[38;5;28;01mTrue\u001b[39;00m)\n",
      "\u001b[1;31mNameError\u001b[0m: name 'milvus_search_function' is not defined"
     ]
    }
   ],
   "source": [
    "import gradio\n",
    "\n",
    "interface = gradio.Interface(milvus_search_function, \n",
    "                             gradio.inputs.Image(type=\"pil\", source='upload'),\n",
    "                             [gradio.outputs.Image(type=\"file\", label=None) for _ in range(5)]\n",
    "                            )\n",
    "\n",
    "interface.launch(inline=True, share=True)\n"
   ]
  },
  {
   "cell_type": "code",
   "execution_count": null,
   "id": "919435d3",
   "metadata": {},
   "outputs": [],
   "source": []
  }
 ],
 "metadata": {
  "kernelspec": {
   "display_name": "Python 3 (ipykernel)",
   "language": "python",
   "name": "python3"
  },
  "language_info": {
   "codemirror_mode": {
    "name": "ipython",
    "version": 3
   },
   "file_extension": ".py",
   "mimetype": "text/x-python",
   "name": "python",
   "nbconvert_exporter": "python",
   "pygments_lexer": "ipython3",
   "version": "3.8.10"
  }
 },
 "nbformat": 4,
 "nbformat_minor": 5
}
